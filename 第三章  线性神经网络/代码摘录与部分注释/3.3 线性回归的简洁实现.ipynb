{
 "cells": [
  {
   "cell_type": "code",
   "execution_count": 1,
   "id": "9b71360b-995e-4f5d-9fb2-d0686a6ceac9",
   "metadata": {},
   "outputs": [],
   "source": [
    "import torch\n",
    "import numpy\n",
    "from torch.utils import data\n",
    "from d2l import torch as d2l"
   ]
  },
  {
   "cell_type": "code",
   "execution_count": 18,
   "id": "791f7e4d-2bd4-4cb2-9b25-51751e175fe6",
   "metadata": {},
   "outputs": [],
   "source": [
    "true_w = torch.tensor([2,-3.4])\n",
    "true_b = 4.2\n",
    "features, labels = d2l.synthetic_data(true_w, true_b, 1000)"
   ]
  },
  {
   "cell_type": "code",
   "execution_count": 13,
   "id": "3a48fd6b-a9e0-4d89-9b28-6c52a79a7335",
   "metadata": {},
   "outputs": [],
   "source": [
    "#读取数据集\n",
    "def load_array(data_arrays, bath_size, is_train = True): #@%save\n",
    "    \"\"\"构造一个PyTorch数据迭代器\"\"\"\n",
    "    dataset = data.TensorDataset(*data_arrays)\n",
    "    #TensorDataset是PyTorch中用于包装数据的一个类，它接受任意数量的张量作为输入，并将它们打包成一个数据集。这里的*data_arrays是解包操作\n",
    "    return data.DataLoader(dataset, bath_size, shuffle=is_train)\n",
    "    #DataLoader是PyTorch中用于加载数据集的一个迭代器，它支持自动分批、打乱数据（如果shuffle=True）和多进程数据加载等功能"
   ]
  },
  {
   "cell_type": "code",
   "execution_count": 8,
   "id": "d51fe6f1-b7fa-4170-800f-d909c6c46889",
   "metadata": {},
   "outputs": [],
   "source": [
    "bath_size = 10\n",
    "data_iter = load_array((feathers, labels), bath_size)"
   ]
  },
  {
   "cell_type": "code",
   "execution_count": 10,
   "id": "84e74197-1772-431d-abb6-52c24103e8fd",
   "metadata": {},
   "outputs": [
    {
     "data": {
      "text/plain": [
       "[tensor([[-1.3016, -0.5518],\n",
       "         [ 0.2216,  0.4628],\n",
       "         [-0.7452,  0.8555],\n",
       "         [ 0.4570, -0.0530],\n",
       "         [ 0.3978,  1.6983],\n",
       "         [-0.9927,  0.0248],\n",
       "         [ 0.5997,  1.6740],\n",
       "         [ 0.3801, -1.1331],\n",
       "         [ 1.2516, -0.7389],\n",
       "         [-0.5192, -0.4671]]),\n",
       " tensor([[ 3.4805],\n",
       "         [ 3.0707],\n",
       "         [-0.1926],\n",
       "         [ 5.2894],\n",
       "         [-0.7801],\n",
       "         [ 2.1234],\n",
       "         [-0.2895],\n",
       "         [ 8.8122],\n",
       "         [ 9.2286],\n",
       "         [ 4.7674]])]"
      ]
     },
     "execution_count": 10,
     "metadata": {},
     "output_type": "execute_result"
    }
   ],
   "source": [
    "next(iter(data_iter))\n",
    "#next(iter(data_iter))这行代码的作用是获取data_iter（即DataLoader对象）的第一个批次的数据"
   ]
  },
  {
   "cell_type": "code",
   "execution_count": 11,
   "id": "5fad8142-36f3-44fa-b0d5-4dc66249f475",
   "metadata": {},
   "outputs": [
    {
     "data": {
      "text/plain": [
       "'nn.Linear(2, 1)：这是一个全连接层，它的输入特征维度是2，输出特征维度是1。\\n这意味着，当你向这个网络提供一个形状为(batch_size, 2)的输入张量时，\\n它会返回一个形状为(batch_size, 1)的输出张量'"
      ]
     },
     "execution_count": 11,
     "metadata": {},
     "output_type": "execute_result"
    }
   ],
   "source": [
    "# nn是神经网络的缩写\n",
    "from torch import nn\n",
    "\n",
    "net = nn.Sequential(nn.Linear(2, 1))\n",
    "\"\"\"nn.Sequential是一个容器，用于按顺序包装一系列的层\"\"\"\n",
    "\"\"\"nn.Linear(2, 1)：这是一个全连接层，它的输入特征维度是2，输出特征维度是1。\n",
    "这意味着，当你向这个网络提供一个形状为(batch_size, 2)的输入张量时，\n",
    "它会返回一个形状为(batch_size, 1)的输出张量\"\"\""
   ]
  },
  {
   "cell_type": "code",
   "execution_count": 14,
   "id": "3e08982d-b440-448c-8480-2a038fc5c66b",
   "metadata": {},
   "outputs": [
    {
     "data": {
      "text/plain": [
       "'将net中第一个层的偏置初始化为0'"
      ]
     },
     "execution_count": 14,
     "metadata": {},
     "output_type": "execute_result"
    }
   ],
   "source": [
    "#初始化模型参数\n",
    "net[0].weight.data.normal_(0,0.01)\n",
    "\"\"\"将net中第一个层的权重初始化为均值为0，标准差为0.01的正态分布随机值。\"\"\"\n",
    "net[0].bias.data.fill_(0)\n",
    "\"\"\"将net中第一个层的偏置初始化为0\"\"\"\n",
    "#init.normal_(net[0].weight, mean=0.0, std=0.01)\n",
    "#init.constant_(net[0].bias, val=0)"
   ]
  },
  {
   "cell_type": "code",
   "execution_count": 15,
   "id": "e92e9b1b-c5c9-4956-9d24-49e2940d63e3",
   "metadata": {},
   "outputs": [
    {
     "data": {
      "text/plain": [
       "'\\n小批量随机梯度下降算法是一种优化神经网络的标准工具， PyTorch在optim模块中实现了该算法的许多变种。\\n当我们(实例化一个SGD实例)时，我们要指定优化的参数 （可通过net.parameters()从我们的模型中获得）以及优化算法所需的超参数字典。\\n小批量随机梯度下降只需要设置lr值，这里设置为0.03。\\n'"
      ]
     },
     "execution_count": 15,
     "metadata": {},
     "output_type": "execute_result"
    }
   ],
   "source": [
    "#定义损失函数\n",
    "loss = nn.MSELoss()\n",
    "\"\"\"计算均方误差使用的是MSELoss类，也称为平方\n",
    "范数,默认情况下，它返回所有样本损失的平均值。\"\"\"\n",
    "#定义优化算法\n",
    "trainer = torch.optim.SGD(net.parameters(), lr=0.03)\n",
    "\"\"\"\n",
    "小批量随机梯度下降算法是一种优化神经网络的标准工具， PyTorch在optim模块中实现了该算法的许多变种。\n",
    "当我们(实例化一个SGD实例)时，我们要指定优化的参数 （可通过net.parameters()从我们的模型中获得）以及优化算法所需的超参数字典。\n",
    "小批量随机梯度下降只需要设置lr值，这里设置为0.03。\n",
    "\"\"\""
   ]
  },
  {
   "cell_type": "code",
   "execution_count": 19,
   "id": "41e56308-39eb-4006-ae10-24bef4f2fb53",
   "metadata": {},
   "outputs": [
    {
     "name": "stdout",
     "output_type": "stream",
     "text": [
      "epoachs 1, loss 0.000101\n",
      "epoachs 2, loss 0.000100\n",
      "epoachs 3, loss 0.000100\n"
     ]
    }
   ],
   "source": [
    "num_epoachs = 3 \n",
    "for epoachs in range(num_epoachs):\n",
    "    for X, y in data_iter:\n",
    "        l = loss(net(X), y)\n",
    "        trainer.zero_grad() #将模型参数的梯度清零\n",
    "        l.backward()\n",
    "        trainer.step() #使用优化器（假设已经以trainer变量名初始化）更新模型的参数\n",
    "    l = loss(net(features), labels)\n",
    "    print(f'epoachs {epoachs + 1}, loss {l:f}')"
   ]
  },
  {
   "cell_type": "code",
   "execution_count": 20,
   "id": "a4f4df8e-9e05-4aad-a793-fa8079c7ac46",
   "metadata": {},
   "outputs": [
    {
     "name": "stdout",
     "output_type": "stream",
     "text": [
      "w的估计误差： tensor([4.5061e-05, 3.5286e-04])\n",
      "b的估计误差： tensor([0.0003])\n"
     ]
    }
   ],
   "source": [
    "w = net[0].weight.data\n",
    "print('w的估计误差：', true_w - w.reshape(true_w.shape))\n",
    "b = net[0].bias.data\n",
    "print('b的估计误差：', true_b - b)"
   ]
  },
  {
   "cell_type": "code",
   "execution_count": 21,
   "id": "f31aee80-045a-4182-a473-271d143c5c1a",
   "metadata": {},
   "outputs": [
    {
     "data": {
      "text/plain": [
       "['AdaptiveAvgPool1d',\n",
       " 'AdaptiveAvgPool2d',\n",
       " 'AdaptiveAvgPool3d',\n",
       " 'AdaptiveLogSoftmaxWithLoss',\n",
       " 'AdaptiveMaxPool1d',\n",
       " 'AdaptiveMaxPool2d',\n",
       " 'AdaptiveMaxPool3d',\n",
       " 'AlphaDropout',\n",
       " 'AvgPool1d',\n",
       " 'AvgPool2d',\n",
       " 'AvgPool3d',\n",
       " 'BCELoss',\n",
       " 'BCEWithLogitsLoss',\n",
       " 'BatchNorm1d',\n",
       " 'BatchNorm2d',\n",
       " 'BatchNorm3d',\n",
       " 'Bilinear',\n",
       " 'CELU',\n",
       " 'CTCLoss',\n",
       " 'ChannelShuffle',\n",
       " 'CircularPad1d',\n",
       " 'CircularPad2d',\n",
       " 'CircularPad3d',\n",
       " 'ConstantPad1d',\n",
       " 'ConstantPad2d',\n",
       " 'ConstantPad3d',\n",
       " 'Container',\n",
       " 'Conv1d',\n",
       " 'Conv2d',\n",
       " 'Conv3d',\n",
       " 'ConvTranspose1d',\n",
       " 'ConvTranspose2d',\n",
       " 'ConvTranspose3d',\n",
       " 'CosineEmbeddingLoss',\n",
       " 'CosineSimilarity',\n",
       " 'CrossEntropyLoss',\n",
       " 'CrossMapLRN2d',\n",
       " 'DataParallel',\n",
       " 'Dropout',\n",
       " 'Dropout1d',\n",
       " 'Dropout2d',\n",
       " 'Dropout3d',\n",
       " 'ELU',\n",
       " 'Embedding',\n",
       " 'EmbeddingBag',\n",
       " 'FeatureAlphaDropout',\n",
       " 'Flatten',\n",
       " 'Fold',\n",
       " 'FractionalMaxPool2d',\n",
       " 'FractionalMaxPool3d',\n",
       " 'GELU',\n",
       " 'GLU',\n",
       " 'GRU',\n",
       " 'GRUCell',\n",
       " 'GaussianNLLLoss',\n",
       " 'GroupNorm',\n",
       " 'Hardshrink',\n",
       " 'Hardsigmoid',\n",
       " 'Hardswish',\n",
       " 'Hardtanh',\n",
       " 'HingeEmbeddingLoss',\n",
       " 'HuberLoss',\n",
       " 'Identity',\n",
       " 'InstanceNorm1d',\n",
       " 'InstanceNorm2d',\n",
       " 'InstanceNorm3d',\n",
       " 'KLDivLoss',\n",
       " 'L1Loss',\n",
       " 'LPPool1d',\n",
       " 'LPPool2d',\n",
       " 'LPPool3d',\n",
       " 'LSTM',\n",
       " 'LSTMCell',\n",
       " 'LayerNorm',\n",
       " 'LazyBatchNorm1d',\n",
       " 'LazyBatchNorm2d',\n",
       " 'LazyBatchNorm3d',\n",
       " 'LazyConv1d',\n",
       " 'LazyConv2d',\n",
       " 'LazyConv3d',\n",
       " 'LazyConvTranspose1d',\n",
       " 'LazyConvTranspose2d',\n",
       " 'LazyConvTranspose3d',\n",
       " 'LazyInstanceNorm1d',\n",
       " 'LazyInstanceNorm2d',\n",
       " 'LazyInstanceNorm3d',\n",
       " 'LazyLinear',\n",
       " 'LeakyReLU',\n",
       " 'Linear',\n",
       " 'LocalResponseNorm',\n",
       " 'LogSigmoid',\n",
       " 'LogSoftmax',\n",
       " 'MSELoss',\n",
       " 'MarginRankingLoss',\n",
       " 'MaxPool1d',\n",
       " 'MaxPool2d',\n",
       " 'MaxPool3d',\n",
       " 'MaxUnpool1d',\n",
       " 'MaxUnpool2d',\n",
       " 'MaxUnpool3d',\n",
       " 'Mish',\n",
       " 'Module',\n",
       " 'ModuleDict',\n",
       " 'ModuleList',\n",
       " 'MultiLabelMarginLoss',\n",
       " 'MultiLabelSoftMarginLoss',\n",
       " 'MultiMarginLoss',\n",
       " 'MultiheadAttention',\n",
       " 'NLLLoss',\n",
       " 'NLLLoss2d',\n",
       " 'PReLU',\n",
       " 'PairwiseDistance',\n",
       " 'Parameter',\n",
       " 'ParameterDict',\n",
       " 'ParameterList',\n",
       " 'PixelShuffle',\n",
       " 'PixelUnshuffle',\n",
       " 'PoissonNLLLoss',\n",
       " 'RMSNorm',\n",
       " 'RNN',\n",
       " 'RNNBase',\n",
       " 'RNNCell',\n",
       " 'RNNCellBase',\n",
       " 'RReLU',\n",
       " 'ReLU',\n",
       " 'ReLU6',\n",
       " 'ReflectionPad1d',\n",
       " 'ReflectionPad2d',\n",
       " 'ReflectionPad3d',\n",
       " 'ReplicationPad1d',\n",
       " 'ReplicationPad2d',\n",
       " 'ReplicationPad3d',\n",
       " 'SELU',\n",
       " 'Sequential',\n",
       " 'SiLU',\n",
       " 'Sigmoid',\n",
       " 'SmoothL1Loss',\n",
       " 'SoftMarginLoss',\n",
       " 'Softmax',\n",
       " 'Softmax2d',\n",
       " 'Softmin',\n",
       " 'Softplus',\n",
       " 'Softshrink',\n",
       " 'Softsign',\n",
       " 'SyncBatchNorm',\n",
       " 'Tanh',\n",
       " 'Tanhshrink',\n",
       " 'Threshold',\n",
       " 'Transformer',\n",
       " 'TransformerDecoder',\n",
       " 'TransformerDecoderLayer',\n",
       " 'TransformerEncoder',\n",
       " 'TransformerEncoderLayer',\n",
       " 'TripletMarginLoss',\n",
       " 'TripletMarginWithDistanceLoss',\n",
       " 'Unflatten',\n",
       " 'Unfold',\n",
       " 'UninitializedBuffer',\n",
       " 'UninitializedParameter',\n",
       " 'Upsample',\n",
       " 'UpsamplingBilinear2d',\n",
       " 'UpsamplingNearest2d',\n",
       " 'ZeroPad1d',\n",
       " 'ZeroPad2d',\n",
       " 'ZeroPad3d',\n",
       " '__builtins__',\n",
       " '__cached__',\n",
       " '__doc__',\n",
       " '__file__',\n",
       " '__loader__',\n",
       " '__name__',\n",
       " '__package__',\n",
       " '__path__',\n",
       " '__spec__',\n",
       " '_reduction',\n",
       " 'attention',\n",
       " 'common_types',\n",
       " 'factory_kwargs',\n",
       " 'functional',\n",
       " 'grad',\n",
       " 'init',\n",
       " 'intrinsic',\n",
       " 'modules',\n",
       " 'parallel',\n",
       " 'parameter',\n",
       " 'qat',\n",
       " 'quantizable',\n",
       " 'quantized',\n",
       " 'utils']"
      ]
     },
     "execution_count": 21,
     "metadata": {},
     "output_type": "execute_result"
    }
   ],
   "source": [
    "#查看损失函数\n",
    "dir(nn)"
   ]
  },
  {
   "cell_type": "code",
   "execution_count": 23,
   "id": "3b04b70c-89a4-4cdf-8369-a7e7c9b68164",
   "metadata": {},
   "outputs": [
    {
     "name": "stdout",
     "output_type": "stream",
     "text": [
      "epoch 1, loss 0.000051\n",
      "epoch 2, loss 0.000050\n",
      "epoch 3, loss 0.000050\n",
      "w的估计误差： tensor([-0.0003,  0.0005])\n",
      "b的估计误差： tensor([9.0122e-05])\n"
     ]
    }
   ],
   "source": [
    "loss = nn.HuberLoss()\n",
    "num_epochs = 3\n",
    "for epoch in range(num_epochs):\n",
    "    for X, y in data_iter:\n",
    "        l = loss(net(X) ,y)\n",
    "        trainer.zero_grad()\n",
    "        l.backward()\n",
    "        trainer.step() # 调用step()函数对X的值进行更新\n",
    "    l = loss(net(features), labels)\n",
    "    print(f'epoch {epoch + 1}, loss {l:f}')\n",
    "\n",
    "w = net[0].weight.data\n",
    "print('w的估计误差：', true_w - w.reshape(true_w.shape))\n",
    "b = net[0].bias.data\n",
    "print('b的估计误差：', true_b - b)"
   ]
  },
  {
   "cell_type": "code",
   "execution_count": 24,
   "id": "85c4aa88-93e0-4992-bfd4-e2d763e6282c",
   "metadata": {},
   "outputs": [
    {
     "name": "stdout",
     "output_type": "stream",
     "text": [
      "tensor([[0.0003, 0.0008]]) tensor([-0.0022])\n"
     ]
    }
   ],
   "source": [
    "#访问线性回归的梯度\n",
    "print(net[0].weight.grad, net[0].bias.grad)"
   ]
  },
  {
   "cell_type": "code",
   "execution_count": null,
   "id": "926fa148-0306-4dd2-88a8-7df35080cdf3",
   "metadata": {},
   "outputs": [],
   "source": []
  }
 ],
 "metadata": {
  "kernelspec": {
   "display_name": "Python 3 (ipykernel)",
   "language": "python",
   "name": "python3"
  },
  "language_info": {
   "codemirror_mode": {
    "name": "ipython",
    "version": 3
   },
   "file_extension": ".py",
   "mimetype": "text/x-python",
   "name": "python",
   "nbconvert_exporter": "python",
   "pygments_lexer": "ipython3",
   "version": "3.11.7"
  }
 },
 "nbformat": 4,
 "nbformat_minor": 5
}
