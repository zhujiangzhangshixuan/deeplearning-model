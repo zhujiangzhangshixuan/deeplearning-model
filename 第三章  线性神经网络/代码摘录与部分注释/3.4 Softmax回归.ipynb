{
 "cells": [
  {
   "cell_type": "code",
   "execution_count": 1,
   "id": "ea9c1e54-c172-4bc1-be83-98c28ec1a637",
   "metadata": {},
   "outputs": [
    {
     "data": {
      "text/plain": [
       "'统计学家很早以前就发明了一种表示分类数据的简单方法：独热编码（one-hot encoding）。\\n独热编码是一个向量，它的分量和类别一样多。 类别对应的分量设置为1，其他所有分量设置为0。'"
      ]
     },
     "execution_count": 1,
     "metadata": {},
     "output_type": "execute_result"
    }
   ],
   "source": [
    "#softmax回归实现分类问题\n",
    "\"\"\"统计学家很早以前就发明了一种表示分类数据的简单方法：独热编码（one-hot encoding）。\n",
    "独热编码是一个向量，它的分量和类别一样多。 类别对应的分量设置为1，其他所有分量设置为0。\"\"\""
   ]
  },
  {
   "cell_type": "code",
   "execution_count": null,
   "id": "ad29305d-fcea-4b33-b779-53bbe26cd137",
   "metadata": {},
   "outputs": [],
   "source": []
  }
 ],
 "metadata": {
  "kernelspec": {
   "display_name": "Python 3 (ipykernel)",
   "language": "python",
   "name": "python3"
  },
  "language_info": {
   "codemirror_mode": {
    "name": "ipython",
    "version": 3
   },
   "file_extension": ".py",
   "mimetype": "text/x-python",
   "name": "python",
   "nbconvert_exporter": "python",
   "pygments_lexer": "ipython3",
   "version": "3.11.7"
  }
 },
 "nbformat": 4,
 "nbformat_minor": 5
}
