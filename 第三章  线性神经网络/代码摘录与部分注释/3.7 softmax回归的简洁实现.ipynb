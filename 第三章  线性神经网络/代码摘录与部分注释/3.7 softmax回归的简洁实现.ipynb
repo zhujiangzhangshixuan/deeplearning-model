{
 "cells": [
  {
   "cell_type": "code",
   "execution_count": 1,
   "id": "b51a0197-94b0-43b3-ba22-b5c7da682f65",
   "metadata": {},
   "outputs": [],
   "source": [
    "import torch\n",
    "from torch import nn\n",
    "from d2l import torch as d2l\n",
    "\n",
    "batch_size = 256\n",
    "train_iter, test_iter = d2l.load_data_fashion_mnist(batch_size)"
   ]
  },
  {
   "cell_type": "code",
   "execution_count": 2,
   "id": "88f791dc-20d3-4bde-baa6-12601c6be508",
   "metadata": {},
   "outputs": [
    {
     "data": {
      "text/plain": [
       "'\\napply函数会遍历模型中的所有模块，并对每个模块执行init_weights函数。\\n由于init_weights函数只处理线性层，因此只有线性层的权重会被初始化\\n'"
      ]
     },
     "execution_count": 2,
     "metadata": {},
     "output_type": "execute_result"
    }
   ],
   "source": [
    "# PyTorch不会隐式地调整输入的形状。因此，\n",
    "# 我们在线性层前定义了展平层（flatten），来调整网络输入的形状\n",
    "net = nn.Sequential(nn.Flatten(), nn.Linear(784, 10))\n",
    "\"\"\"\n",
    "nn.Flatten()：展平层。这个层的作用是将输入的多维数据展平成一维数据。\n",
    "这在处理图像数据时非常有用，因为图像通常以三维张量（高度、宽度、通道数）的形式存在，而全连接层（线性层）需要一维输入。\n",
    "假设输入图像的尺寸为28x28像素（灰度图，即单通道），那么展平后的尺寸将是784（28*28）。\n",
    "nn.Linear(784, 10)：线性层（也称为全连接层）。\n",
    "这个层有784个输入特征和10个输出特征。输出特征的数量通常对应于分类任务中的类别数\n",
    "\"\"\"\n",
    "def init_weights(m):\n",
    "    if type(m) == nn.Linear:\n",
    "    #检查传入的模块m是否是线性层（nn.Linear）。如果是，那么将对其权重进行初始化\n",
    "        nn.init.normal_(m.weight, std=0.01)\n",
    "        #正态分布（高斯分布）初始化线性层的权重\n",
    "\n",
    "net.apply(init_weights);\n",
    "\"\"\"\n",
    "apply函数会遍历模型中的所有模块，并对每个模块执行init_weights函数。\n",
    "由于init_weights函数只处理线性层，因此只有线性层的权重会被初始化\n",
    "\"\"\""
   ]
  },
  {
   "cell_type": "code",
   "execution_count": 3,
   "id": "23d25340-98b4-4034-b5eb-5af02864bfef",
   "metadata": {},
   "outputs": [],
   "source": [
    "loss = nn.CrossEntropyLoss(reduction='none')\n",
    "#交叉熵损失函数的定义\n",
    "\n",
    "trainer = torch.optim.SGD(net.parameters(), lr=0.1)"
   ]
  },
  {
   "cell_type": "code",
   "execution_count": 4,
   "id": "3e3c8bd7-7e57-41a2-b269-b2240b1af1ab",
   "metadata": {},
   "outputs": [
    {
     "ename": "AttributeError",
     "evalue": "module 'd2l.torch' has no attribute 'train_ch3'",
     "output_type": "error",
     "traceback": [
      "\u001b[1;31m---------------------------------------------------------------------------\u001b[0m",
      "\u001b[1;31mAttributeError\u001b[0m                            Traceback (most recent call last)",
      "Cell \u001b[1;32mIn[4], line 2\u001b[0m\n\u001b[0;32m      1\u001b[0m num_epochs \u001b[38;5;241m=\u001b[39m \u001b[38;5;241m10\u001b[39m\n\u001b[1;32m----> 2\u001b[0m d2l\u001b[38;5;241m.\u001b[39mtrain_ch3(net, train_iter, test_iter, loss, num_epochs, trainer)\n",
      "\u001b[1;31mAttributeError\u001b[0m: module 'd2l.torch' has no attribute 'train_ch3'"
     ]
    }
   ],
   "source": [
    "num_epochs = 10\n",
    "d2l.train_ch3(net, train_iter, test_iter, loss, num_epochs, trainer)"
   ]
  },
  {
   "cell_type": "code",
   "execution_count": null,
   "id": "ca5854f8-8d12-4f79-8a97-8f9dcf3b3d4a",
   "metadata": {},
   "outputs": [],
   "source": []
  }
 ],
 "metadata": {
  "kernelspec": {
   "display_name": "Python 3 (ipykernel)",
   "language": "python",
   "name": "python3"
  },
  "language_info": {
   "codemirror_mode": {
    "name": "ipython",
    "version": 3
   },
   "file_extension": ".py",
   "mimetype": "text/x-python",
   "name": "python",
   "nbconvert_exporter": "python",
   "pygments_lexer": "ipython3",
   "version": "3.11.7"
  }
 },
 "nbformat": 4,
 "nbformat_minor": 5
}
